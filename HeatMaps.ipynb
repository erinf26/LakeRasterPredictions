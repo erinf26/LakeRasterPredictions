{
 "cells": [
  {
   "cell_type": "code",
   "execution_count": 1,
   "metadata": {},
   "outputs": [
    {
     "name": "stdout",
     "output_type": "stream",
     "text": [
      "(5, 10980, 10980)\n"
     ]
    }
   ],
   "source": [
    "# Spatial Extent of Chlorophyll-a Concentration \n",
    "# Estimates Using Developed Machine Learning Techniques - Objective 2\n",
    "import rasterio\n",
    "import numpy as np\n",
    "import folium\n",
    "# step 1 is to prepare the raster data!\n",
    "# must include georeferencing information (like spatial reference system,\n",
    "# coordinates, etc.)\n",
    "with rasterio.open(\"/Users/erinfoley/Desktop/nasa2024/data/S2_SenecaLake_v2.tif\") as src:\n",
    "    raster_data = src.read()\n",
    "    transform = src.transform # affine transform for pixel to geographic coords\n",
    "    crs = src.crs # coordinate reference system\n",
    "\n",
    "    # at this point, raster_data will contain pixel values that represent\n",
    "    # chlorophyll-a values? idek\n",
    "    # shape = (5, 10980, 10980)\n",
    "\n",
    "# might need to reshape depending on the model we end up using. \n",
    "# for example, to reshape the data to (num pixels, num bands):\n",
    "# num_pixels = raster_data.shape[1] * raster_data.shape[2]\n",
    "# raster_flattened = raster_data.reshape(5, num_pixels).T"
   ]
  },
  {
   "cell_type": "code",
   "execution_count": 2,
   "metadata": {},
   "outputs": [],
   "source": [
    "# step 2 is to apply the machine learning model\n",
    "from joblib import load\n",
    "\n",
    "# PUT MODEL HERE WHEN DONE\n",
    "model = load('model')\n",
    "\n",
    "# prediction for each pixel:\n",
    "chlorophyll_a_predictions = model.predict(raster_flattened)\n",
    "chlorophyll_a_predictions = chlorophyll_a_predictions.reshape(raster_data.shape[1], raster_data.shape[2])"
   ]
  },
  {
   "cell_type": "code",
   "execution_count": null,
   "metadata": {},
   "outputs": [],
   "source": [
    "# step 3 is to make a heat map!\n",
    "import matplotlib.pyplot as plt\n",
    "\n",
    "plt.imshow(chlorophyll_a_predictions, cmap='viridis')\n",
    "plt.colorbar(label='Chlorophyll-a Concentration (mg/m^3)')\n",
    "plt.title('Chlorophyll-a Concentration Heat Map')\n",
    "plt.xlabel('Pixel X')\n",
    "plt.ylabel('Pixel Y')\n",
    "plt.show()"
   ]
  },
  {
   "cell_type": "code",
   "execution_count": null,
   "metadata": {},
   "outputs": [],
   "source": [
    "# step 4 is to transform pixel coordinates to geographic coordinates\n",
    "def pixel_to_geo_coords(transform, x, y):\n",
    "    x_geo, y_geo = rasterio.transform.xy(transform,x,y)\n",
    "    return x_geo, y_geo\n",
    "\n",
    "# generate geo coordinates\n",
    "latitudes = []\n",
    "longitudes = []\n",
    "chlorophyll_vals = []\n",
    "\n",
    "for row in range(chlorophyll_a_predictions.shape[1]):\n",
    "    for col in range(chlorophyll_a_predictions.shape[2]):\n",
    "        x_geo, y_geo = pixel_to_geo_coords(transform, row, col)\n",
    "        latitudes.append(y_geo)\n",
    "        longitudes.append(x_geo)\n",
    "        chlorophyll_vals.append(chlorophyll_a_predictions[row,col])\n",
    "\n",
    "heat_data = [[lat,lon,val] for lat, lon, val in zip(latitudes, longitudes, chlorophyll_vals)]"
   ]
  },
  {
   "cell_type": "code",
   "execution_count": null,
   "metadata": {},
   "outputs": [],
   "source": [
    "# step 5 is to overlay predictions on a map (w/ Folium!)\n",
    "\n",
    "# center of seneca lake: (42.7274, 76.9113)\n",
    "lat_center = 42.7274\n",
    "lon_center = -76.9113\n",
    "\n",
    "lake_map = folium.Map(location=[latitude_center, logitude_center], zoom_start=12)\n",
    "\n",
    "from folium.plugins import HeatMap\n",
    "max_value = np.max(chlorophyll_vals)\n",
    "normalized_heat_data = [[lat, lon, value / max_value] for lat, lon, value in heat_data]\n",
    "HeatMap(normalized_heat_data, radius=10,blur=15,max_zoom=13).add_to(lake_map)\n",
    "\n",
    "lake_map.save('chlorophyll_a_heatmap.html')\n",
    "lake_map"
   ]
  }
 ],
 "metadata": {
  "kernelspec": {
   "display_name": ".venv",
   "language": "python",
   "name": "python3"
  },
  "language_info": {
   "codemirror_mode": {
    "name": "ipython",
    "version": 3
   },
   "file_extension": ".py",
   "mimetype": "text/x-python",
   "name": "python",
   "nbconvert_exporter": "python",
   "pygments_lexer": "ipython3",
   "version": "3.10.12"
  }
 },
 "nbformat": 4,
 "nbformat_minor": 2
}
